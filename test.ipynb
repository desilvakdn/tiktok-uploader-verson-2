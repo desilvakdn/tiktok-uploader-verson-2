{
 "cells": [
  {
   "cell_type": "code",
   "execution_count": 1,
   "metadata": {},
   "outputs": [
    {
     "name": "stdout",
     "output_type": "stream",
     "text": [
      "    3  Videos found in the videos folder, ready to upload...\n",
      "['.\\\\videos\\\\KFC+Fried+Chicken+Recipe+Asmr+Cooking+#shorts.mp4', '.\\\\videos\\\\SANDWICH WITH MEATBALLS #shorts #asmr.mp4', '.\\\\videos\\\\Steak+cooked+in+butter!+@thatdudecancook.mp4']\n"
     ]
    }
   ],
   "source": [
    "from selenium import webdriver\n",
    "from webdriver_manager.chrome import ChromeDriverManager\n",
    "from webdriver_manager.chrome import ChromeDriverManager\n",
    "from selenium.webdriver.common.by import By\n",
    "from selenium.webdriver.support.ui import WebDriverWait\n",
    "from selenium.webdriver.support import expected_conditions as EC\n",
    "import os,time,sys,json\n",
    "\n",
    "dir_path = '.\\\\videos'\n",
    "count = 0\n",
    "lst = []\n",
    "\n",
    "for path in os.listdir(dir_path):\n",
    "    if os.path.isfile(os.path.join(dir_path, path)):\n",
    "        lst.append(os.path.join(dir_path, path))\n",
    "        count += 1\n",
    "print(\"   \", count, \" Videos found in the videos folder, ready to upload...\")\n",
    "print(lst)"
   ]
  },
  {
   "cell_type": "code",
   "execution_count": 2,
   "metadata": {},
   "outputs": [
    {
     "name": "stdout",
     "output_type": "stream",
     "text": [
      "    1  Json Files found in the Account folder ...\n",
      "         0 : test.json\n"
     ]
    },
    {
     "name": "stderr",
     "output_type": "stream",
     "text": [
      "C:\\Users\\Dinuka Nilupul\\AppData\\Local\\Temp\\ipykernel_19336\\3009994928.py:22: DeprecationWarning: executable_path has been deprecated, please pass in a Service object\n",
      "  driver = webdriver.Chrome(ChromeDriverManager().install(),chrome_options=options)\n",
      "C:\\Users\\Dinuka Nilupul\\AppData\\Local\\Temp\\ipykernel_19336\\3009994928.py:22: DeprecationWarning: use options instead of chrome_options\n",
      "  driver = webdriver.Chrome(ChromeDriverManager().install(),chrome_options=options)\n"
     ]
    }
   ],
   "source": [
    "dir_path = '.\\\\account profiles'\n",
    "count = 0\n",
    "lst1 = []\n",
    "\n",
    "for path in os.listdir(dir_path):\n",
    "    if os.path.isfile(os.path.join(dir_path, path)):\n",
    "        lst1.append(os.path.abspath(os.path.join(dir_path, path)))\n",
    "        count += 1\n",
    "print(\"   \", count, \" Json Files found in the Account folder ...\")\n",
    "\n",
    "for i in range(count):\n",
    "    file_name = os.path.basename(lst1[i])\n",
    "    print(\"        \",\"{} : {}\".format(i,file_name))\n",
    "\n",
    "response_ = int(input(\"Which One You Need To Upload : \"))\n",
    "f = open(lst1[response_])\n",
    "l = json.load(f)\n",
    "\n",
    "options = webdriver.ChromeOptions()\n",
    "options.add_argument('--profile-directory={}'.format(l[\"profilenum\"]))\n",
    "options.add_argument(\"--user-data-dir={}\".format(l[\"profilepath\"]).replace(\"\\\\\",\"\\\\\\\\\")) #Path to your chrome profile\n",
    "driver = webdriver.Chrome(ChromeDriverManager().install(),chrome_options=options)\n",
    "\n",
    "driver.get(\"https://www.tiktok.com/upload?lang=en\")"
   ]
  },
  {
   "cell_type": "code",
   "execution_count": 12,
   "metadata": {},
   "outputs": [
    {
     "name": "stdout",
     "output_type": "stream",
     "text": [
      "Steak+cooked+in+butter!+thatdudecancook\n",
      "Added File Name As Caption Successfully\n"
     ]
    }
   ],
   "source": [
    "def caption(file_name):\n",
    "    try:\n",
    "        iframe = driver.find_element(By.XPATH,\"//iframe[@src='https://www.tiktok.com/creator#/upload?lang=en']\")\n",
    "        driver.switch_to.frame(iframe)\n",
    "    except:\n",
    "        pass\n",
    "\n",
    "    #notranslate public-DraftEditor-content\n",
    "\n",
    "    check_txt = WebDriverWait(driver, 60).until(EC.visibility_of_element_located((By.CLASS_NAME, 'public-DraftEditor-content'))).text\n",
    "\n",
    "    if check_txt.lower()==file_name:\n",
    "        print(\"Caption Already Added\")\n",
    "    else:\n",
    "        print(check_txt)\n",
    "        WebDriverWait(driver, 60).until(EC.visibility_of_element_located((By.CLASS_NAME, 'public-DraftEditor-content'))).clear()\n",
    "        WebDriverWait(driver, 60).until(EC.visibility_of_element_located((By.CLASS_NAME, 'public-DraftEditor-content'))).send_keys(file_name)\n",
    "        print(\"Added File Name As Caption Successfully\")"
   ]
  },
  {
   "cell_type": "code",
   "execution_count": 9,
   "metadata": {},
   "outputs": [],
   "source": [
    "def copyrightcheck():\n",
    "    try:\n",
    "        iframe = driver.find_element(By.XPATH,\"//iframe[@src='https://www.tiktok.com/creator#/upload?lang=en']\")\n",
    "        driver.switch_to.frame(iframe)\n",
    "    except:\n",
    "        pass\n",
    "\n",
    "    WebDriverWait(driver, 60).until(EC.visibility_of_element_located((By.CLASS_NAME, 'tiktok-switch__switch-inner'))).click()\n",
    "\n",
    "    while True:\n",
    "        b = WebDriverWait(driver, 60).until(EC.visibility_of_element_located((By.CLASS_NAME, 'copyright')))\n",
    "        b = b.find_element(By.CLASS_NAME,\"tool-tip\").text\n",
    "        if \"checking\" in b.lower():\n",
    "            continue\n",
    "        elif \"no issues detected\" in b.lower():\n",
    "            \n",
    "            WebDriverWait(driver, 60).until(EC.visibility_of_element_located((By.CLASS_NAME, 'btn-post'))).click()\n",
    "            print(\"No Issue Uploading\")\n",
    "            break\n",
    "\n",
    "\n"
   ]
  },
  {
   "cell_type": "code",
   "execution_count": 5,
   "metadata": {},
   "outputs": [],
   "source": [
    "def upload_module(file_path):\n",
    "    response=False\n",
    "    try:\n",
    "        iframe = driver.find_element(By.XPATH,\"//iframe[@src='https://www.tiktok.com/creator#/upload?lang=en']\")\n",
    "        driver.switch_to.frame(iframe)\n",
    "    except:\n",
    "        pass\n",
    "    \n",
    "    try:\n",
    "        WebDriverWait(driver, 60).until(EC.visibility_of_element_located((By.CLASS_NAME, 'file-select-button')))\n",
    "        response = True\n",
    "    except:\n",
    "        response=False\n",
    "\n",
    "    if response:\n",
    "        v = WebDriverWait(driver, 60).until(EC.visibility_of_element_located((By.CLASS_NAME, 'upload')))\n",
    "        x = v.find_element(By.XPATH,\"//input[@type='file']\")\n",
    "        x.send_keys(file_path)\n",
    "\n",
    "        while True:\n",
    "            try:\n",
    "                v = driver.find_element(By.CLASS_NAME,\"change-video-btn\").text\n",
    "                print(v)\n",
    "                if \"change video\" in v.lower():\n",
    "                    print(\"Done Uploading\")\n",
    "                    time.sleep(1)\n",
    "                    break\n",
    "            except:\n",
    "                time.sleep(0.5)\n",
    "\n",
    "    \n"
   ]
  },
  {
   "cell_type": "code",
   "execution_count": 11,
   "metadata": {},
   "outputs": [],
   "source": [
    "def checkuploaded():\n",
    "    try:\n",
    "        v = driver.find_element(By.CLASS_NAME,\"tiktok-modal__modal-title\").text\n",
    "        if \"uploaded\" in v.lower():\n",
    "            driver.find_element(By.CLASS_NAME,\"tiktok-modal__modal-button\").click()\n",
    "            return\n",
    "    except:\n",
    "        time.sleep(0.5)\n",
    "    \n",
    "checkuploaded()"
   ]
  },
  {
   "cell_type": "code",
   "execution_count": 10,
   "metadata": {},
   "outputs": [
    {
     "name": "stdout",
     "output_type": "stream",
     "text": [
      "Steak+cooked+in+butter!+thatdudecancook.mp4\n",
      "Change video\n",
      "Done Uploading\n",
      "Steak+cooked+in+butter!+thatdudecancook\n",
      "Added File Name As Caption Successfully\n",
      "No Issue Uploading\n"
     ]
    }
   ],
   "source": [
    "file_ = os.path.abspath('.\\\\videos\\\\Steak+cooked+in+butter!+thatdudecancook.mp4')\n",
    "upload_module(file_)\n",
    "caption(os.path.basename(file_).replace(\".mp4\",\"\"))\n",
    "time.sleep(1)\n",
    "copyrightcheck()\n",
    "checkuploaded()\n"
   ]
  }
 ],
 "metadata": {
  "kernelspec": {
   "display_name": "Python 3",
   "language": "python",
   "name": "python3"
  },
  "language_info": {
   "codemirror_mode": {
    "name": "ipython",
    "version": 3
   },
   "file_extension": ".py",
   "mimetype": "text/x-python",
   "name": "python",
   "nbconvert_exporter": "python",
   "pygments_lexer": "ipython3",
   "version": "3.11.0"
  },
  "orig_nbformat": 4,
  "vscode": {
   "interpreter": {
    "hash": "c261aea317cc0286b3b3261fbba9abdec21eaa57589985bb7a274bf54d6cc0a7"
   }
  }
 },
 "nbformat": 4,
 "nbformat_minor": 2
}
